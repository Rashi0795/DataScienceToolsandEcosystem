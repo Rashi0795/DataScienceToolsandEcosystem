{
 "cells": [
  {
   "cell_type": "markdown",
   "metadata": {},
   "source": [
    "<center>\n",
    "    <img src=\"https://cf-courses-data.s3.us.cloud-object-storage.appdomain.cloud/IBMDeveloperSkillsNetwork-DS0105EN-SkillsNetwork/labs/Module2/images/SN_web_lightmode.png\" width=\"300\" alt=\"cognitiveclass.ai logo\">\n",
    "</center>\n"
   ]
  },
  {
   "cell_type": "markdown",
   "metadata": {},
   "source": [
    "# Data Science Tools and Ecosystem"
   ]
  },
  {
   "cell_type": "markdown",
   "metadata": {},
   "source": [
    "# Introduction"
   ]
  },
  {
   "cell_type": "markdown",
   "metadata": {},
   "source": [
    "# In this notebook, Data Science Tools and Ecosystem are Summerized. "
   ]
  },
  {
   "cell_type": "markdown",
   "metadata": {},
   "source": [
    "# list data science libraries"
   ]
  },
  {
   "cell_type": "code",
   "execution_count": 1,
   "metadata": {
    "tags": []
   },
   "outputs": [
    {
     "name": "stdout",
     "output_type": "stream",
     "text": [
      "Ordered List: [10, 20, 30, 40, 50]\n",
      "Accessing elements in the ordered list:\n",
      "10\n",
      "20\n",
      "30\n",
      "40\n",
      "50\n",
      "Updated Ordered List: [10, 20, 30, 40, 50, 60, 70]\n"
     ]
    }
   ],
   "source": [
    "# Some of the commonly used libraries used by Data Scientists include:\n",
    "\n",
    "# Create an ordered list\n",
    "ordered_list = [10, 20, 30, 40, 50]\n",
    "\n",
    "# Print the ordered list\n",
    "print(\"Ordered List:\", ordered_list)\n",
    "\n",
    "# Access elements in the ordered list\n",
    "print(\"Accessing elements in the ordered list:\")\n",
    "for item in ordered_list:\n",
    "    print(item)\n",
    "\n",
    "# You can also append elements to the list, preserving the order\n",
    "ordered_list.append(60)\n",
    "ordered_list.append(70)\n",
    "\n",
    "# Print the updated ordered list\n",
    "print(\"Updated Ordered List:\", ordered_list)"
   ]
  },
  {
   "cell_type": "markdown",
   "metadata": {},
   "source": [
    "# Data Science Tools"
   ]
  },
  {
   "cell_type": "code",
   "execution_count": 2,
   "metadata": {
    "tags": []
   },
   "outputs": [
    {
     "name": "stdout",
     "output_type": "stream",
     "text": [
      "| Data Science Tools   |\n",
      "|:---------------------|\n",
      "| Jupyter Notebook     |\n",
      "| RStudio              |\n",
      "| Visual Studio Code   |\n"
     ]
    }
   ],
   "source": [
    "# Data Science Tools:\n",
    "\n",
    "from tabulate import tabulate\n",
    "\n",
    "# Define the data\n",
    "data = [[\"Jupyter Notebook\"],\n",
    "        [\"RStudio\"],\n",
    "        [\"Visual Studio Code\"]]\n",
    "\n",
    "# Add header\n",
    "header = [\"Data Science Tools\"]\n",
    "\n",
    "# Print the table\n",
    "print(tabulate(data, headers=header, tablefmt=\"pipe\"))"
   ]
  },
  {
   "cell_type": "markdown",
   "metadata": {},
   "source": [
    "# Introducing Arithmetic expressions"
   ]
  },
  {
   "cell_type": "code",
   "execution_count": 3,
   "metadata": {
    "tags": []
   },
   "outputs": [
    {
     "name": "stdout",
     "output_type": "stream",
     "text": [
      "Addition Result: 8\n",
      "Subtraction Result: 6\n",
      "Multiplication Result: 42\n",
      "Division Result: 5.0\n",
      "Exponentiation Result: 8\n"
     ]
    }
   ],
   "source": [
    "### Below are the few examples of Evaluating arithmetic expressions in python:\n",
    "\n",
    "# Addition\n",
    "result_addition = 5 + 3\n",
    "print(\"Addition Result:\", result_addition)\n",
    "\n",
    "# Subtraction\n",
    "result_subtraction = 10 - 4\n",
    "print(\"Subtraction Result:\", result_subtraction)\n",
    "\n",
    "# Multiplication\n",
    "result_multiplication = 6 * 7\n",
    "print(\"Multiplication Result:\", result_multiplication)\n",
    "\n",
    "# Division\n",
    "result_division = 15 / 3\n",
    "print(\"Division Result:\", result_division)\n",
    "\n",
    "# Exponentiation\n",
    "result_exponentiation = 2 ** 3\n",
    "print(\"Exponentiation Result:\", result_exponentiation)"
   ]
  },
  {
   "cell_type": "code",
   "execution_count": 4,
   "metadata": {
    "tags": []
   },
   "outputs": [
    {
     "name": "stdout",
     "output_type": "stream",
     "text": [
      "Result: 17\n"
     ]
    }
   ],
   "source": [
    "# This is the simple arithmetic to multiply then add integers\n",
    "\n",
    "result = (3 * 4) + 5\n",
    "print(\"Result:\", result)"
   ]
  },
  {
   "cell_type": "code",
   "execution_count": 5,
   "metadata": {
    "tags": []
   },
   "outputs": [
    {
     "name": "stdout",
     "output_type": "stream",
     "text": [
      "200 minutes is equal to 3.3333333333333335 hours.\n"
     ]
    }
   ],
   "source": [
    "# This will convert 200 minutes to hours by dividing by 60:\n",
    "\n",
    "# Define the number of minutes\n",
    "minutes = 200\n",
    "\n",
    "# Convert minutes to hours\n",
    "hours = minutes / 60\n",
    "\n",
    "# Print the Output\n",
    "print(f\"{minutes} minutes is equal to {hours} hours.\")"
   ]
  },
  {
   "cell_type": "markdown",
   "metadata": {},
   "source": [
    "# list Objectives"
   ]
  },
  {
   "cell_type": "code",
   "execution_count": null,
   "metadata": {},
   "outputs": [],
   "source": [
    "**Objectives:**\n",
    "\n",
    "- List popular languagesfor Data Science.\n",
    "- Demonstrate basic arithmetic operations in Python.\n",
    "- Convert minutes to hours using Python.\n"
   ]
  },
  {
   "cell_type": "markdown",
   "metadata": {},
   "source": [
    "# Author's Name"
   ]
  },
  {
   "cell_type": "code",
   "execution_count": null,
   "metadata": {},
   "outputs": [],
   "source": [
    "## Author\n",
    "\n",
    "Rashi Hiwale"
   ]
  }
 ],
 "metadata": {
  "kernelspec": {
   "display_name": "Python",
   "language": "python",
   "name": "conda-env-python-py"
  },
  "language_info": {
   "codemirror_mode": {
    "name": "ipython",
    "version": 3
   },
   "file_extension": ".py",
   "mimetype": "text/x-python",
   "name": "python",
   "nbconvert_exporter": "python",
   "pygments_lexer": "ipython3",
   "version": "3.7.12"
  }
 },
 "nbformat": 4,
 "nbformat_minor": 4
}
