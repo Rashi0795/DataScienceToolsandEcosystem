{
 "cells": [
  {
   "cell_type": "markdown",
   "metadata": {},
   "source": [
    "<center>\n",
    "    <img src=\"https://cf-courses-data.s3.us.cloud-object-storage.appdomain.cloud/IBMDeveloperSkillsNetwork-DS0105EN-SkillsNetwork/labs/Module2/images/SN_web_lightmode.png\" width=\"300\" alt=\"cognitiveclass.ai logo\">\n",
    "</center>\n"
   ]
  },
  {
   "cell_type": "markdown",
   "metadata": {},
   "source": [
    "#### Add your code below following the instructions given in the course\n"
   ]
  },
  {
   "cell_type": "markdown",
   "metadata": {},
   "source": [
    "# Data Science Tools and Ecosystem"
   ]
  },
  {
   "cell_type": "markdown",
   "metadata": {},
   "source": [
    "# Introduction:"
   ]
  },
  {
   "cell_type": "markdown",
   "metadata": {},
   "source": [
    "# In this notebook,Data Science Tools and Ecosystem are Summerized"
   ]
  },
  {
   "cell_type": "code",
   "execution_count": null,
   "metadata": {},
   "outputs": [],
   "source": [
    "Data science tools and the ecosystem refer to the collection of software, programming languages, libraries, frameworks, and platforms used by data scientists to perform various tasks related to data analysis, modeling, visualization, and deployment. \n",
    "Here's a summarized explanation:\n",
    "\n",
    "1. Programming Languages: Data scientists commonly use programming languages such as Python, R, and SQL for data manipulation, analysis, \n",
    "and querying databases.\n",
    "\n",
    "2. Libraries and Frameworks: Libraries like NumPy, Pandas, and SciPy in Python, along with libraries like ggplot2 and caret in R, \n",
    "provide powerful tools for data manipulation, statistical analysis, machine learning, and visualization.\n",
    "\n",
    "3. Development Environments: Tools like Jupyter Notebook, RStudio, and Visual Studio Code offer integrated development environments (IDEs) \n",
    "with features tailored for data science workflows, including code execution, visualization, and collaboration.\n",
    "\n",
    "4. Machine Learning Frameworks: TensorFlow, PyTorch, and scikit-learn are popular machine learning frameworks that provide algorithms and \n",
    "tools for building, training, and deploying machine learning models.\n",
    "\n",
    "5. Data Science Ecosystem: The data science ecosystem encompasses the interconnected network of tools, libraries, communities, and resources\n",
    "that support data scientists in their work. This ecosystem is dynamic and continually evolving, driven by advances in technology, \n",
    "new research, and community contributions."
   ]
  },
  {
   "cell_type": "markdown",
   "metadata": {},
   "source": [
    "# List of data science languages:"
   ]
  },
  {
   "cell_type": "code",
   "execution_count": null,
   "metadata": {},
   "outputs": [],
   "source": [
    "Some of the popular languages that Data Scientists use are:\n",
    "\n",
    "1. Python\n",
    "2. R\n",
    "3. SQL"
   ]
  },
  {
   "cell_type": "markdown",
   "metadata": {},
   "source": [
    "# List of Data Science Libraries:"
   ]
  },
  {
   "cell_type": "code",
   "execution_count": null,
   "metadata": {},
   "outputs": [],
   "source": [
    "Some of the commonly used libraries used by Data Scientists include:\n",
    "    \n",
    "    1. Numpy\n",
    "    2. Pandas\n",
    "    3. Sci-kit learn\n",
    "    4. Matplotlib\n",
    "    5. Tensorflow"
   ]
  },
  {
   "cell_type": "markdown",
   "metadata": {},
   "source": [
    "# Data Science Tools"
   ]
  },
  {
   "cell_type": "markdown",
   "metadata": {
    "tags": []
   },
   "source": [
    "| Data Science Tools | \n",
    "|:--------:|\n",
    "|  Jupyter NoteBook   | \n",
    "|  RStudio   | \n",
    "|  Visual Studio Code   | \n"
   ]
  },
  {
   "cell_type": "markdown",
   "metadata": {},
   "source": [
    "# Introducing Arithmetic expression Examples"
   ]
  },
  {
   "cell_type": "code",
   "execution_count": 7,
   "metadata": {
    "tags": []
   },
   "outputs": [
    {
     "name": "stdout",
     "output_type": "stream",
     "text": [
      "Addition: 8\n",
      "Subtraction: 6\n",
      "Multiplication: 42\n",
      "Division: 5.0\n",
      "Integer Division: 3\n",
      "Modulo (Remainder): 3\n"
     ]
    }
   ],
   "source": [
    "### Below are a few examples of evaluating arithmetic expressions in Python.\n",
    "\n",
    "# Addition\n",
    "result_add = 5 + 3\n",
    "print(\"Addition:\", result_add)  # Output: 8\n",
    "\n",
    "# Subtraction\n",
    "result_sub = 10 - 4\n",
    "print(\"Subtraction:\", result_sub)  # Output: 6\n",
    "\n",
    "# Multiplication\n",
    "result_mul = 6 * 7\n",
    "print(\"Multiplication:\", result_mul)  # Output: 42\n",
    "\n",
    "# Division\n",
    "result_div = 15 / 3\n",
    "print(\"Division:\", result_div)  # Output: 5.0 (float division)\n",
    "\n",
    "# Integer Division\n",
    "result_int_div = 15 // 4\n",
    "print(\"Integer Division:\", result_int_div)  # Output: 3\n",
    "\n",
    "# Modulo (Remainder)\n",
    "result_mod = 15 % 4\n",
    "print(\"Modulo (Remainder):\", result_mod)  # Output: 3\n",
    "\n"
   ]
  },
  {
   "cell_type": "code",
   "execution_count": 6,
   "metadata": {
    "tags": []
   },
   "outputs": [
    {
     "name": "stdout",
     "output_type": "stream",
     "text": [
      "Result: 17\n"
     ]
    }
   ],
   "source": [
    "# This is the simple arithmetic to multiply then add integers\n",
    "\n",
    "result = (3 * 4) + 5\n",
    "print(\"Result:\", result)"
   ]
  },
  {
   "cell_type": "code",
   "execution_count": 7,
   "metadata": {
    "tags": []
   },
   "outputs": [
    {
     "name": "stdout",
     "output_type": "stream",
     "text": [
      "200 minutes is equal to 3.3333333333333335 hours.\n"
     ]
    }
   ],
   "source": [
    "# This will convert 200 minutes to hours by dividing by 60:\n",
    "\n",
    "# Define the number of minutes\n",
    "minutes = 200\n",
    "\n",
    "# Convert minutes to hours\n",
    "hours = minutes / 60\n",
    "\n",
    "# Print the Output\n",
    "print(f\"{minutes} minutes is equal to {hours} hours.\")"
   ]
  },
  {
   "cell_type": "markdown",
   "metadata": {},
   "source": [
    "# list objectives"
   ]
  },
  {
   "cell_type": "code",
   "execution_count": null,
   "metadata": {},
   "outputs": [],
   "source": [
    "**Objectives:**\n",
    "\n",
    "- List popular languages for Data Science.\n",
    "- Demonstrate basic arithmetic operations in Python.\n",
    "- Convert minutes to hours using Python.\n"
   ]
  },
  {
   "cell_type": "markdown",
   "metadata": {},
   "source": [
    "# Author's Name"
   ]
  },
  {
   "cell_type": "code",
   "execution_count": null,
   "metadata": {},
   "outputs": [],
   "source": [
    "# Author\n",
    "\n",
    "Rashi Hiwale"
   ]
  }
 ],
 "metadata": {
  "kernelspec": {
   "display_name": "Python",
   "language": "python",
   "name": "conda-env-python-py"
  },
  "language_info": {
   "codemirror_mode": {
    "name": "ipython",
    "version": 3
   },
   "file_extension": ".py",
   "mimetype": "text/x-python",
   "name": "python",
   "nbconvert_exporter": "python",
   "pygments_lexer": "ipython3",
   "version": "3.7.12"
  }
 },
 "nbformat": 4,
 "nbformat_minor": 4
}
